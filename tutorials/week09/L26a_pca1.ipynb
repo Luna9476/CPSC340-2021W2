{
 "cells": [
  {
   "cell_type": "markdown",
   "metadata": {},
   "source": [
    "## PCA (Part 1)\n",
    "\n",
    "CPSC 340: Machine Learning and Data Mining\n",
    "\n",
    "The University of British Columbia\n",
    "\n",
    "2018 Winter Term 1\n",
    "\n",
    "Mike Gelbart"
   ]
  },
  {
   "cell_type": "code",
   "execution_count": null,
   "metadata": {},
   "outputs": [],
   "source": [
    "import numpy as np\n",
    "import matplotlib.pyplot as plt\n",
    "%matplotlib inline\n",
    "from sklearn.decomposition import PCA\n",
    "\n",
    "import plotly.graph_objs as go # conda install plotly\n",
    "\n",
    "from plotly.offline import download_plotlyjs, init_notebook_mode, plot, iplot\n",
    "init_notebook_mode(connected=True)"
   ]
  },
  {
   "cell_type": "markdown",
   "metadata": {},
   "source": [
    "Create a synthetic data set"
   ]
  },
  {
   "cell_type": "code",
   "execution_count": null,
   "metadata": {},
   "outputs": [],
   "source": [
    "n = 12\n",
    "d = 2\n",
    "\n",
    "x1 = np.linspace(0,5,n)  + np.random.randn(n)*0.05\n",
    "x2 = x1*0.7 + np.random.randn(n)*0.5\n",
    "x1 = x1-np.mean(x1)\n",
    "x2 = x2-np.mean(x2)\n",
    "\n",
    "X = np.concatenate((x1[:,None],x2[:,None]),axis=1)\n",
    "\n",
    "plt.scatter(x1,x2)\n",
    "plt.xlabel('x1')\n",
    "plt.ylabel('x2');"
   ]
  },
  {
   "cell_type": "markdown",
   "metadata": {},
   "source": [
    "Run PCA with k=1"
   ]
  },
  {
   "cell_type": "code",
   "execution_count": null,
   "metadata": {},
   "outputs": [],
   "source": [
    "k = 1\n",
    "pca = PCA(n_components=k)\n",
    "pca.fit(X);"
   ]
  },
  {
   "cell_type": "markdown",
   "metadata": {},
   "source": [
    "### Visualizing PCA"
   ]
  },
  {
   "cell_type": "code",
   "execution_count": null,
   "metadata": {},
   "outputs": [],
   "source": [
    "def make_plot(pca, X):\n",
    "    W = pca.components_\n",
    "    Z = pca.transform(X)\n",
    "\n",
    "    # visualize the subspace spanned by W\n",
    "    grid = np.linspace(min(X[:,0])-.3,max(X[:,0])+.3,1000)\n",
    "    gridplot = (grid-pca.mean_[0])/W[0,0]*W[0,1]+pca.mean_[1]\n",
    "\n",
    "    # visualize the reconstructions\n",
    "    Xhat = pca.inverse_transform(Z)\n",
    "    # xhat = Z@W + pca.mean_ # the same\n",
    "\n",
    "    plt.scatter(X[:,0],X[:,1], label=\"original data\")\n",
    "    plt.xlabel('$x_1$')\n",
    "    plt.ylabel('$x_2$');\n",
    "    plt.plot(grid, gridplot, 'black', label=\"model\")\n",
    "    plt.scatter(Xhat[:,0],Xhat[:,1], c='red', label=\"reconstructions\")\n",
    "    plt.axis('equal');\n",
    "    \n",
    "    for i in range (X.shape[0]):\n",
    "        plt.plot((X[i,0],Xhat[i,0]),(X[i,1],Xhat[i,1]), 'red')\n",
    "    \n",
    "    plt.legend()\n",
    "    \n",
    "make_plot(pca, X)"
   ]
  },
  {
   "cell_type": "markdown",
   "metadata": {},
   "source": [
    "The line gives us a new, 1D coordinate system."
   ]
  },
  {
   "cell_type": "markdown",
   "metadata": {},
   "source": [
    "#### Moving to $d=3,k=2$"
   ]
  },
  {
   "cell_type": "code",
   "execution_count": null,
   "metadata": {},
   "outputs": [],
   "source": [
    "n = 12\n",
    "d = 3\n",
    "\n",
    "x1 = np.linspace(0,5,n)  + np.random.randn(n)*0.05\n",
    "x2 = -x1*0.1 + np.random.randn(n)*2\n",
    "x3 = x1*0.7 + np.random.randn(n)*3\n",
    "\n",
    "X = np.concatenate((x1[:,None],x2[:,None],x3[:,None]),axis=1)\n",
    "X = X - np.mean(X,axis=0)\n"
   ]
  },
  {
   "cell_type": "markdown",
   "metadata": {},
   "source": [
    "Let's look at the points."
   ]
  },
  {
   "cell_type": "code",
   "execution_count": null,
   "metadata": {},
   "outputs": [],
   "source": [
    "trace = go.Scatter3d(x=X[:,0], y=X[:,1], z=X[:,2], mode='markers')\n",
    "layout = go.Layout(showlegend=False, scene=dict(xaxis={'title':'x1'},yaxis={'title':'x2'},zaxis={'title':'x3'}))\n",
    "fig = go.Figure(data=[trace], layout=layout)\n",
    "iplot(fig)"
   ]
  },
  {
   "cell_type": "markdown",
   "metadata": {},
   "source": [
    "Let's look at what PCA gives us"
   ]
  },
  {
   "cell_type": "code",
   "execution_count": null,
   "metadata": {},
   "outputs": [],
   "source": [
    "# fit PCA\n",
    "pca = PCA(n_components=2)\n",
    "pca.fit(X)\n",
    "\n",
    "# get grid for visualizing plane\n",
    "z1 = np.linspace(-7,7,100)\n",
    "z2 = np.linspace(-7,7,100)\n",
    "z1grid, z2grid = np.meshgrid(z1, z2)\n",
    "Zgrid = np.concatenate((z1grid.flatten()[:,None],z2grid.flatten()[:,None]),axis=1)\n",
    "Xgrid = pca.inverse_transform(Zgrid)\n",
    "Xgrid_re = np.reshape(Xgrid, (100,100,3))\n",
    "\n",
    "# get reconstructions of original points\n",
    "Z = pca.transform(X)\n",
    "Xhat = pca.inverse_transform(Z)\n",
    "\n",
    "traces1 = []\n",
    "for i in range(n):\n",
    "    traces1.append(go.Scatter3d(x=(X[i,0],Xhat[i,0]), \n",
    "                                y=(X[i,1],Xhat[i,1]), \n",
    "                                z=(X[i,2],Xhat[i,2]), \n",
    "                                marker = dict(color = 'blue')))\n",
    "\n",
    "trace2 = go.Surface(x=Xgrid_re[:,:,0], y=Xgrid_re[:,:,1], z=Xgrid_re[:,:,2], \n",
    "                    showscale=False, colorscale=[[0, 'rgb(200,300,200)'], [1,'rgb(200,300,200)']], \n",
    "opacity=0.9)\n",
    "\n",
    "trace3 = go.Scatter3d(x=Xhat[:,0], y=Xhat[:,1], z=Xhat[:,2], mode='markers')\n",
    "\n",
    "data =  traces1 + [trace2, trace3]\n",
    "\n",
    "layout = go.Layout(showlegend=False, scene=dict(xaxis={'title':'x1'},yaxis={'title':'x2'},zaxis={'title':'x3'}))\n",
    "\n",
    "fig = go.Figure(data=data, layout=layout)\n",
    "iplot(fig)"
   ]
  },
  {
   "cell_type": "markdown",
   "metadata": {},
   "source": [
    "We can also make a scatter plot of these $Z$-values:"
   ]
  },
  {
   "cell_type": "code",
   "execution_count": null,
   "metadata": {},
   "outputs": [],
   "source": [
    "plt.scatter(Z[:,0],Z[:,1])\n",
    "plt.xlabel('$z_1$')\n",
    "plt.ylabel('$z_2$');"
   ]
  },
  {
   "cell_type": "markdown",
   "metadata": {},
   "source": [
    "Above: this is projecting and rotating the data."
   ]
  },
  {
   "cell_type": "markdown",
   "metadata": {},
   "source": [
    "$d=3,k=1$"
   ]
  },
  {
   "cell_type": "code",
   "execution_count": null,
   "metadata": {},
   "outputs": [],
   "source": [
    "n = 12\n",
    "d = 3\n",
    "\n",
    "x1 = np.linspace(0,5,n)  + np.random.randn(n)*0.05\n",
    "x2 = -x1*0.1 + np.random.randn(n)*2\n",
    "x3 = x1*0.7 + np.random.randn(n)*1.5\n",
    "\n",
    "X = np.concatenate((x1[:,None],x2[:,None],x3[:,None]),axis=1)\n",
    "X = X - np.mean(X,axis=0)\n",
    "\n",
    "# fit PCA\n",
    "pca = PCA(n_components=1)\n",
    "pca.fit(X)\n",
    "\n",
    "# get grid for visualizing plane\n",
    "Zgrid = np.linspace(-7,7,100)[:,None]\n",
    "Xgrid = pca.inverse_transform(Zgrid)\n",
    "\n",
    "# get reconstructions of original points\n",
    "Xhat = pca.inverse_transform(pca.transform(X))\n",
    "\n",
    "traces1 = []\n",
    "for i in range(n):\n",
    "    traces1.append(go.Scatter3d(x=(X[i,0],Xhat[i,0]), \n",
    "                                y=(X[i,1],Xhat[i,1]), \n",
    "                                z=(X[i,2],Xhat[i,2]), \n",
    "                                marker={'color':'blue'}))\n",
    "\n",
    "trace2 = go.Scatter3d(x=Xgrid[:,0], y=Xgrid[:,1], z=Xgrid[:,2], mode='lines', marker={'color':'black'})\n",
    "\n",
    "trace3 = go.Scatter3d(x=Xhat[:,0], y=Xhat[:,1], z=Xhat[:,2], mode='markers')\n",
    "\n",
    "data =  traces1 + [trace2, trace3]\n",
    "\n",
    "layout = go.Layout(showlegend=False, scene=dict(xaxis={'title':'x1'},yaxis={'title':'x2'},zaxis={'title':'x3'}))\n",
    "\n",
    "\n",
    "fig = go.Figure(data=data, layout=layout)\n",
    "iplot(fig)"
   ]
  },
  {
   "cell_type": "markdown",
   "metadata": {},
   "source": [
    "### Inspecting the values"
   ]
  },
  {
   "cell_type": "code",
   "execution_count": null,
   "metadata": {},
   "outputs": [],
   "source": [
    "k = 1\n",
    "pca = PCA(n_components=k)\n",
    "pca.fit(X);"
   ]
  },
  {
   "cell_type": "code",
   "execution_count": null,
   "metadata": {},
   "outputs": [],
   "source": [
    "X"
   ]
  },
  {
   "cell_type": "code",
   "execution_count": null,
   "metadata": {},
   "outputs": [],
   "source": [
    "Z = pca.transform(X)\n",
    "Z"
   ]
  },
  {
   "cell_type": "code",
   "execution_count": null,
   "metadata": {},
   "outputs": [],
   "source": [
    "W = pca.components_\n",
    "W"
   ]
  },
  {
   "cell_type": "code",
   "execution_count": null,
   "metadata": {},
   "outputs": [],
   "source": [
    "X.size"
   ]
  },
  {
   "cell_type": "code",
   "execution_count": null,
   "metadata": {},
   "outputs": [],
   "source": [
    "Z.size+W.size"
   ]
  },
  {
   "cell_type": "markdown",
   "metadata": {},
   "source": [
    "We sometimes call this \"compression\" because we've reduced the number of values we're storing ($15<36$)."
   ]
  },
  {
   "cell_type": "code",
   "execution_count": null,
   "metadata": {},
   "outputs": [],
   "source": [
    "Xhat = pca.inverse_transform(Z)\n",
    "Xhat"
   ]
  },
  {
   "cell_type": "markdown",
   "metadata": {},
   "source": [
    "### Why you need to center the data"
   ]
  },
  {
   "cell_type": "code",
   "execution_count": null,
   "metadata": {},
   "outputs": [],
   "source": [
    "n = 12\n",
    "d = 2\n",
    "\n",
    "x1 = np.linspace(0,5,n)  + np.random.randn(n)*0.05\n",
    "x2 = x1*(-0.7) + np.random.randn(n)*0.5\n",
    "x1 = x1-np.mean(x1) + 3\n",
    "x2 = x2-np.mean(x2) + 5\n",
    "\n",
    "X = np.concatenate((x1[:,None],x2[:,None]),axis=1)\n",
    "\n",
    "plt.scatter(x1,x2)\n",
    "plt.xlabel('x1')\n",
    "plt.ylabel('x2');"
   ]
  },
  {
   "cell_type": "code",
   "execution_count": null,
   "metadata": {},
   "outputs": [],
   "source": [
    "# mu=np.mean(X,axis=0)\n",
    "# X -= mu\n",
    "\n",
    "U,s,Vh = np.linalg.svd(X)\n",
    "W = Vh[:k]\n",
    "\n",
    "Z = X@W.T\n",
    "\n",
    "# visualize the subspace spanned by W\n",
    "grid = np.linspace(min(X[:,0])-.3,max(X[:,0])+.3,1000)\n",
    "gridplot = (grid-pca.mean_[0])/W[0,0]*W[0,1]+pca.mean_[1]\n",
    "\n",
    "# visualize the reconstructions\n",
    "Xhat = Z@W\n",
    "# xhat = Z@W + pca.mean_ # the same\n",
    "\n",
    "plt.scatter(X[:,0],X[:,1], label=\"original data\")\n",
    "plt.xlabel('$x_1$')\n",
    "plt.ylabel('$x_2$');\n",
    "plt.plot(grid, gridplot, 'black', label=\"model\")\n",
    "plt.axis('equal');"
   ]
  },
  {
   "cell_type": "code",
   "execution_count": null,
   "metadata": {},
   "outputs": [],
   "source": [
    "mu = np.mean(X,axis=0)\n",
    "X_centred = X - mu"
   ]
  },
  {
   "cell_type": "code",
   "execution_count": null,
   "metadata": {},
   "outputs": [],
   "source": [
    "U,s,Vh = np.linalg.svd(X_centred)\n",
    "W = Vh[:k]\n",
    "Z = X_centred@W.T\n",
    "Xhat = Z@W\n",
    "\n",
    "grid = np.linspace(min(X_centred[:,0])-.3,max(X_centred[:,0])+.3,1000)\n",
    "gridplot = (grid-pca.mean_[0])/W[0,0]*W[0,1]\n",
    "\n",
    "plt.scatter(X_centred[:,0],X_centred[:,1], label=\"original data\")\n",
    "plt.xlabel('$x_1$')\n",
    "plt.ylabel('$x_2$');\n",
    "plt.plot(grid, gridplot, 'black', label=\"model\")\n",
    "plt.axis('equal');"
   ]
  },
  {
   "cell_type": "markdown",
   "metadata": {},
   "source": [
    "Above: with centering, things look much better."
   ]
  },
  {
   "cell_type": "code",
   "execution_count": null,
   "metadata": {},
   "outputs": [],
   "source": []
  }
 ],
 "metadata": {
  "kernelspec": {
   "display_name": "Python 3 (ipykernel)",
   "language": "python",
   "name": "python3"
  },
  "language_info": {
   "codemirror_mode": {
    "name": "ipython",
    "version": 3
   },
   "file_extension": ".py",
   "mimetype": "text/x-python",
   "name": "python",
   "nbconvert_exporter": "python",
   "pygments_lexer": "ipython3",
   "version": "3.8.5"
  }
 },
 "nbformat": 4,
 "nbformat_minor": 4
}
